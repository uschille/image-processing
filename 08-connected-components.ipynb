{
 "cells": [
  {
   "cell_type": "markdown",
   "id": "5189dac3",
   "metadata": {},
   "source": [
    "# Connected Component Analysis"
   ]
  },
  {
   "cell_type": "code",
   "execution_count": null,
   "id": "3c7994f7",
   "metadata": {},
   "outputs": [],
   "source": [
    "import this"
   ]
  },
  {
   "cell_type": "code",
   "execution_count": null,
   "id": "4269c316",
   "metadata": {},
   "outputs": [],
   "source": [
    "import numpy as np\n",
    "import matplotlib.pyplot as plt\n",
    "import skimage.io\n",
    "import skimage.color\n",
    "import skimage.filters\n",
    "import skimage.measure\n",
    "%matplotlib widget"
   ]
  },
  {
   "cell_type": "code",
   "execution_count": null,
   "id": "1aeda74f-1eac-41b8-87a6-ae4e0ba03003",
   "metadata": {},
   "outputs": [],
   "source": [
    "%load_ext watermark\n",
    "%watermark -v -p numpy,matplotlib,skimage\n",
    "%matplotlib"
   ]
  },
  {
   "cell_type": "code",
   "execution_count": null,
   "id": "55add486",
   "metadata": {},
   "outputs": [],
   "source": [
    "image = skimage.io.imread(\"fig/junk.jpg\")\n",
    "\n",
    "fig, ax = plt.subplots()\n",
    "plt.imshow(image)\n",
    "plt.axis('off')\n",
    "plt.show()"
   ]
  },
  {
   "cell_type": "code",
   "execution_count": null,
   "id": "b6855a5c",
   "metadata": {},
   "outputs": [],
   "source": [
    "gray_image = skimage.color.rgb2gray(image)\n",
    "\n",
    "sigma = 2.0\n",
    "blurred_image = skimage.filters.gaussian(gray_image, sigma=sigma)\n",
    "\n",
    "t = 0.9\n",
    "binary_mask = blurred_image < t\n",
    "\n",
    "fig, ax = plt.subplots()\n",
    "plt.imshow(binary_mask, cmap='gray')\n",
    "plt.axis('off')\n",
    "plt.show()"
   ]
  },
  {
   "cell_type": "markdown",
   "id": "6161446e",
   "metadata": {},
   "source": [
    "## Connected Component Analysis"
   ]
  },
  {
   "cell_type": "code",
   "execution_count": null,
   "id": "a9399fe7",
   "metadata": {},
   "outputs": [],
   "source": [
    "connectivity = 2\n",
    "labeled_image, count = skimage.measure.label(binary_mask, connectivity=connectivity, return_num=True)\n",
    "\n",
    "fig, ax = plt.subplots()\n",
    "plt.imshow(labeled_image)\n",
    "plt.axis('off')\n",
    "plt.show()"
   ]
  },
  {
   "cell_type": "code",
   "execution_count": null,
   "id": "3387794d",
   "metadata": {},
   "outputs": [],
   "source": [
    "colored_label_image = skimage.color.label2rgb(labeled_image, bg_label=0)\n",
    "\n",
    "fig, ax = plt.subplots()\n",
    "plt.imshow(colored_label_image)\n",
    "plt.axis('off')\n",
    "#plt.savefig(\"fig/09-labeled-objects.png\",dpi=150)\n",
    "plt.show()"
   ]
  },
  {
   "cell_type": "markdown",
   "id": "33b0a378",
   "metadata": {},
   "source": [
    "### How many objects are in that image"
   ]
  },
  {
   "cell_type": "code",
   "execution_count": null,
   "id": "57e0c70e",
   "metadata": {},
   "outputs": [],
   "source": [
    "def connected_components(filename, sigma=1.0, t=0.5, connectivity=2):\n",
    "    image = skimage.io.imread(filename)\n",
    "    gray_image = skimage.color.rgb2gray(image)\n",
    "    blurred_image = skimage.filters.gaussian(gray_image, sigma=sigma)\n",
    "    binary_mask = blurred_image < t\n",
    "    labeled_image, count = skimage.measure.label(binary_mask, connectivity=connectivity, return_num=True)\n",
    "    return labeled_image, count\n",
    "\n",
    "labeled_image, count = connected_components(\"fig/junk.jpg\", sigma=2.0, t=0.9, connectivity=2)\n",
    "\n",
    "fig, ax = plt.subplots()\n",
    "plt.imshow(labeled_image)\n",
    "plt.axis('off')\n",
    "plt.show()"
   ]
  },
  {
   "cell_type": "code",
   "execution_count": null,
   "id": "ca9e2955",
   "metadata": {},
   "outputs": [],
   "source": [
    "print(\"Found\", count, \"objects in the image.\")"
   ]
  },
  {
   "cell_type": "code",
   "execution_count": null,
   "id": "9f9727eb",
   "metadata": {},
   "outputs": [],
   "source": [
    "num_objects = np.max(labeled_image)\n",
    "print(\"Found\", num_objects, \"objects in the image.\")"
   ]
  },
  {
   "cell_type": "code",
   "execution_count": null,
   "id": "ca46e63e",
   "metadata": {},
   "outputs": [],
   "source": [
    "fig, ax = plt.subplots()\n",
    "plt.imshow(colored_label_image)\n",
    "plt.axis('off')\n",
    "plt.xlim(0,200)\n",
    "plt.ylim(1700,1300)\n",
    "plt.show()"
   ]
  },
  {
   "cell_type": "markdown",
   "id": "8b704ed7",
   "metadata": {},
   "source": [
    "## Morphometrics - Describe object features with numbers"
   ]
  },
  {
   "cell_type": "code",
   "execution_count": null,
   "id": "c7a8a59d",
   "metadata": {},
   "outputs": [],
   "source": [
    "# compute object features and extrac object areas\n",
    "object_features = skimage.measure.regionprops(labeled_image)\n",
    "object_areas = [objf[\"area\"] for objf in object_features]\n",
    "object_areas"
   ]
  },
  {
   "cell_type": "markdown",
   "id": "959865ce",
   "metadata": {},
   "source": [
    "### Plot a histogram of the object area distribution"
   ]
  },
  {
   "cell_type": "code",
   "execution_count": null,
   "id": "12e42914",
   "metadata": {},
   "outputs": [],
   "source": [
    "fig, ax = plt.subplots()\n",
    "plt.hist(object_areas)\n",
    "plt.xlabel(\"Area (pixels)\", size=14)\n",
    "plt.ylabel(\"Number of objects\", size=14)\n",
    "plt.tight_layout()\n",
    "#plt.savefig(\"fig/08-areas-histogram.png\")\n",
    "plt.show()"
   ]
  },
  {
   "cell_type": "markdown",
   "id": "aa6aebbf",
   "metadata": {},
   "source": [
    "### Filter objects by area"
   ]
  },
  {
   "cell_type": "code",
   "execution_count": null,
   "id": "9e620530",
   "metadata": {},
   "outputs": [],
   "source": [
    "min_area = 200\n",
    "large_objects = [ area for area in object_areas if area > min_area ]\n",
    "\n",
    "fig, ax = plt.subplots()\n",
    "plt.hist(large_objects)\n",
    "plt.show()"
   ]
  },
  {
   "cell_type": "code",
   "execution_count": null,
   "id": "2f22f22f",
   "metadata": {},
   "outputs": [],
   "source": [
    "large_objects = []\n",
    "for objf in object_features:\n",
    "    if objf[\"area\"] > min_area:\n",
    "        large_objects.append(objf[\"label\"])\n",
    "print(\"Found\", len(large_objects), \"objects!\")"
   ]
  },
  {
   "cell_type": "code",
   "execution_count": null,
   "id": "c0e6939d",
   "metadata": {},
   "outputs": [],
   "source": [
    "object_areas = np.array([objf[\"area\"] for objf in object_features])\n",
    "object_labels = np.array([objf[\"label\"] for objf in object_features])\n",
    "large_objects = object_labels[object_areas > min_area]\n",
    "print(\"Found\", len(large_objects), \"objects!\")"
   ]
  },
  {
   "cell_type": "code",
   "execution_count": null,
   "id": "d10befd0",
   "metadata": {},
   "outputs": [],
   "source": [
    "n = np.count_nonzero(object_areas > min_area)\n",
    "print(\"Found\", n, \"objects!\")"
   ]
  },
  {
   "cell_type": "markdown",
   "id": "714da30b",
   "metadata": {},
   "source": [
    "### Remove small objects"
   ]
  },
  {
   "cell_type": "code",
   "execution_count": null,
   "id": "c83e819f",
   "metadata": {},
   "outputs": [],
   "source": [
    "for object_id, objf in enumerate(object_features, start=1):\n",
    "    if objf[\"area\"] < min_area:\n",
    "        labeled_image[labeled_image == objf[\"label\"]] = 0"
   ]
  },
  {
   "cell_type": "code",
   "execution_count": null,
   "id": "7aae0bb1",
   "metadata": {},
   "outputs": [],
   "source": [
    "object_areas = np.array([objf[\"area\"] for objf in object_features])\n",
    "object_labels = np.array([objf[\"label\"] for objf in object_features])\n",
    "small_objects = object_labels[object_areas < min_area]\n",
    "labeled_image[np.isin(labeled_image,small_objects)] = 0"
   ]
  },
  {
   "cell_type": "code",
   "execution_count": null,
   "id": "79c636e2",
   "metadata": {},
   "outputs": [],
   "source": [
    "object_mask = skimage.morphology.remove_small_objects(binary_mask,min_area)\n",
    "labeled_image, n = skimage.measure.label(object_mask, connectivity=connectivity, return_num=True)"
   ]
  },
  {
   "cell_type": "code",
   "execution_count": null,
   "id": "9857c65e",
   "metadata": {},
   "outputs": [],
   "source": [
    "def enhanced_connected_components(filename, sigma=1.0, t=0.5, connectivity=2, min_area=0):\n",
    "    image = skimage.io.imread(filename)\n",
    "    gray_image = skimage.color.rgb2gray(image)\n",
    "    blurred_image = skimage.filters.gaussian(gray_image, sigma=sigma)\n",
    "    binary_mask = blurred_image < t\n",
    "    labeled_image, count = skimage.measure.label(binary_mask, connectivity=connectivity, return_num=True)\n",
    "    object_features = skimage.measure.regionprops(labeled_image)\n",
    "    object_areas = np.array([objf[\"area\"] for objf in object_features])\n",
    "    object_labels = np.array([objf[\"label\"] for objf in object_features])\n",
    "    labeled_image[np.isin(labeled_image,object_labels[object_areas < min_area])] = 0\n",
    "    return labeled_image, np.count_nonzero(object_areas > min_area)\n",
    "\n",
    "labeled_image, count = enhanced_connected_components(\"fig/junk.jpg\", sigma=2.0, t=0.9, connectivity=2, min_area=min_area)\n",
    "colored_label_image = skimage.color.label2rgb(labeled_image, bg_label=0)\n",
    "\n",
    "fig, ax = plt.subplots()\n",
    "plt.imshow(colored_label_image)\n",
    "plt.axis('off')\n",
    "#plt.savefig(\"fig/08-filtered-objects.png\",dpi=150)\n",
    "plt.show()\n",
    "\n",
    "print(\"Found\", count, \"objects in the image.\")"
   ]
  },
  {
   "cell_type": "code",
   "execution_count": null,
   "id": "acf07dfa",
   "metadata": {},
   "outputs": [],
   "source": [
    "def enhanced_connected_components(filename, sigma=1.0, t=0.5, connectivity=2, min_area=0):\n",
    "    image = skimage.io.imread(filename)\n",
    "    gray_image = skimage.color.rgb2gray(image)\n",
    "    blurred_image = skimage.filters.gaussian(gray_image, sigma=sigma)\n",
    "    binary_mask = blurred_image < t\n",
    "    object_mask = skimage.morphology.remove_small_objects(binary_mask,min_area)\n",
    "    labeled_image, count = skimage.measure.label(object_mask, connectivity=connectivity, return_num=True)\n",
    "    return labeled_image, count\n",
    "\n",
    "labeled_image, count = enhanced_connected_components(\"fig/junk.jpg\", sigma=2.0, t=0.9, connectivity=2, min_area=min_area)\n",
    "colored_label_image = skimage.color.label2rgb(labeled_image, bg_label=0)\n",
    "\n",
    "fig, ax = plt.subplots()\n",
    "plt.imshow(colored_label_image)\n",
    "plt.axis('off')\n",
    "#plt.savefig(\"fig/08-filtered-objects.png\",dpi=150)\n",
    "plt.show()\n",
    "\n",
    "print(\"Found\", count, \"objects in the image.\")"
   ]
  },
  {
   "cell_type": "code",
   "execution_count": null,
   "id": "9c61fd55",
   "metadata": {},
   "outputs": [],
   "source": [
    "object_areas = np.array([objf[\"area\"] for objf in skimage.measure.regionprops(labeled_image)])\n",
    "colored_area_image = np.insert(0,1,object_areas)[labeled_image]\n",
    "\n",
    "fig, ax = plt.subplots()\n",
    "im = plt.imshow(colored_area_image)\n",
    "cbar = fig.colorbar(im, ax=ax, shrink=0.85)\n",
    "cbar.ax.set_title('Area')\n",
    "plt.axis('off')\n",
    "#plt.savefig(\"fig/08-objects-colored-by-area.png\",dpi=150)\n",
    "plt.show()"
   ]
  }
 ],
 "metadata": {
  "kernelspec": {
   "display_name": "Python 3",
   "language": "python",
   "name": "python3"
  },
  "language_info": {
   "codemirror_mode": {
    "name": "ipython",
    "version": 3
   },
   "file_extension": ".py",
   "mimetype": "text/x-python",
   "name": "python",
   "nbconvert_exporter": "python",
   "pygments_lexer": "ipython3",
   "version": "3.6.8"
  }
 },
 "nbformat": 4,
 "nbformat_minor": 5
}

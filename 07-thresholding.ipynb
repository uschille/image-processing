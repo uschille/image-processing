{
 "cells": [
  {
   "cell_type": "markdown",
   "id": "82606d9e",
   "metadata": {},
   "source": [
    "# Thresholding"
   ]
  },
  {
   "cell_type": "markdown",
   "id": "7d6ebf3e",
   "metadata": {},
   "source": [
    "## Simple thresholding"
   ]
  },
  {
   "cell_type": "code",
   "execution_count": null,
   "id": "731ef48b",
   "metadata": {},
   "outputs": [],
   "source": [
    "import numpy as np\n",
    "import glob\n",
    "import matplotlib.pyplot as plt\n",
    "import skimage.io\n",
    "import skimage.color\n",
    "import skimage.filters\n",
    "%matplotlib widget"
   ]
  },
  {
   "cell_type": "code",
   "execution_count": null,
   "id": "8f326e0f-a934-4c03-b0a1-b5e3ce0457e2",
   "metadata": {},
   "outputs": [],
   "source": [
    "%load_ext watermark\n",
    "%watermark -v -p numpy,matplotlib,skimage\n",
    "%matplotlib"
   ]
  },
  {
   "cell_type": "code",
   "execution_count": null,
   "id": "5c04650e",
   "metadata": {},
   "outputs": [],
   "source": [
    "# load the image\n",
    "image = skimage.io.imread(\"fig/06-junk-before.png\")\n",
    "\n",
    "fig, ax = plt.subplots()\n",
    "plt.imshow(image)\n",
    "plt.show()"
   ]
  },
  {
   "cell_type": "code",
   "execution_count": null,
   "id": "df336644",
   "metadata": {},
   "outputs": [],
   "source": [
    "# convert the image to grayscale\n",
    "gray_image = skimage.color.rgb2gray(image)\n",
    "\n",
    "# blur the image to denoise\n",
    "blurred_image = skimage.filters.gaussian(gray_image, sigma=1.0)\n",
    "\n",
    "fig, ax = plt.subplots()\n",
    "plt.imshow(blurred_image, cmap='gray')\n",
    "plt.axis('off')\n",
    "plt.tight_layout()\n",
    "#plt.savefig(\"fig/06-junk-grayscale.png\", dpi=150)\n",
    "plt.show()"
   ]
  },
  {
   "cell_type": "code",
   "execution_count": null,
   "id": "77f1402b",
   "metadata": {},
   "outputs": [],
   "source": [
    "# create a histogram of the blurred grayscale image\n",
    "histogram, bin_edges = np.histogram(blurred_image, bins=256, range=(0.0, 1.0))\n",
    "\n",
    "fig, ax = plt.subplots()\n",
    "plt.plot(bin_edges[0:-1], histogram)\n",
    "plt.title(\"Grayscale Histogram\")\n",
    "plt.xlabel(\"grayscale value\")\n",
    "plt.ylabel(\"pixels\")\n",
    "plt.tight_layout()\n",
    "#plt.savefig(\"fig/06-junk-histogram.png\", dpi=150)\n",
    "plt.show()"
   ]
  },
  {
   "cell_type": "code",
   "execution_count": null,
   "id": "33c41f1c",
   "metadata": {},
   "outputs": [],
   "source": [
    "# create a mask based on the threshold\n",
    "t = 0.8\n",
    "binary_mask = blurred_image < t\n",
    "\n",
    "fig, ax = plt.subplots()\n",
    "plt.imshow(binary_mask, cmap='gray')\n",
    "plt.axis('off')\n",
    "plt.tight_layout()\n",
    "#plt.savefig(\"fig/06-junk-mask.png\", dpi=150)\n",
    "plt.show()"
   ]
  },
  {
   "cell_type": "code",
   "execution_count": null,
   "id": "7bf06891",
   "metadata": {},
   "outputs": [],
   "source": [
    "# use the binary_mask to select the \"interesting\" part of the image\n",
    "selection = np.zeros_like(image)\n",
    "selection[binary_mask] = image[binary_mask]\n",
    "\n",
    "fig, ax = plt.subplots()\n",
    "plt.imshow(selection)\n",
    "plt.axis('off')\n",
    "plt.tight_layout()\n",
    "#plt.savefig(\"fig/06-junk-selected.png\", dpi=150)\n",
    "plt.show()"
   ]
  },
  {
   "cell_type": "markdown",
   "id": "ef38cd47",
   "metadata": {},
   "source": [
    "### More practice with simple thresholding"
   ]
  },
  {
   "cell_type": "code",
   "execution_count": null,
   "id": "e27f67b9",
   "metadata": {},
   "outputs": [],
   "source": [
    "image = skimage.io.imread(\"fig/06-more-junk.jpg\")\n",
    "gray_image = skimage.color.rgb2gray(image)\n",
    "blurred_image = skimage.filters.gaussian(gray_image, sigma=1.0)\n",
    "\n",
    "histogram, bin_edges = np.histogram(blurred_image, bins=256, range=(0.0, 1.0))\n",
    "\n",
    "fig, ax = plt.subplots()\n",
    "plt.plot(bin_edges[0:-1], histogram)\n",
    "plt.title(\"Graylevel histogram\")\n",
    "plt.xlabel(\"gray value\")\n",
    "plt.ylabel(\"pixel count\")\n",
    "plt.xlim(0, 1.0)\n",
    "plt.tight_layout()\n",
    "#plt.savefig(\"fig/06-more-junk-histogram.png\", dpi=150)\n",
    "plt.show()"
   ]
  },
  {
   "cell_type": "code",
   "execution_count": null,
   "id": "add31bb3",
   "metadata": {},
   "outputs": [],
   "source": [
    "t = 0.5\n",
    "binary_mask = blurred_image > t\n",
    "\n",
    "fig, ax = plt.subplots()\n",
    "plt.imshow(binary_mask, cmap='gray')\n",
    "plt.axis('off')\n",
    "plt.tight_layout()\n",
    "#plt.savefig(\"fig/06-more-junk-mask.png\", dpi=150)\n",
    "plt.show()"
   ]
  },
  {
   "cell_type": "code",
   "execution_count": null,
   "id": "24d3e2c9",
   "metadata": {},
   "outputs": [],
   "source": [
    "selection = np.zeros_like(image)\n",
    "selection[binary_mask] = image[binary_mask]\n",
    "\n",
    "fig, ax = plt.subplots()\n",
    "plt.imshow(selection)\n",
    "plt.axis('off')\n",
    "plt.tight_layout()\n",
    "#plt.savefig(\"fig/06-more-junk-selected.png\", dpi=150)\n",
    "plt.show()"
   ]
  },
  {
   "cell_type": "markdown",
   "id": "8a3ad166",
   "metadata": {},
   "source": [
    "## Adaptive thresholding"
   ]
  },
  {
   "cell_type": "code",
   "execution_count": null,
   "id": "962b4d9c",
   "metadata": {},
   "outputs": [],
   "source": [
    "image = skimage.io.imread(\"fig/06-roots-original.jpg\")\n",
    "\n",
    "# conver the image to grayscale\n",
    "gray_image = skimage.color.rgb2gray(image)\n",
    "\n",
    "# blur the image to denoise\n",
    "blurred_image = skimage.filters.gaussian(gray_image, sigma=1.0)\n",
    "\n",
    "# create the histogram\n",
    "histogram, bin_edges = np.histogram(blurred_image, bins=256, range=(0.0, 1.0))\n",
    "\n",
    "fig, ax = plt.subplots()\n",
    "plt.plot(bin_edges[0:-1], histogram)\n",
    "plt.title(\"Graylevel histogram\")\n",
    "plt.xlabel(\"gray value\")\n",
    "plt.ylabel(\"pixel count\")\n",
    "plt.xlim(0, 1.0)\n",
    "plt.tight_layout()\n",
    "#plt.savefig(\"fig/06-roots-histogram.png\", dpi=150)\n",
    "plt.show()"
   ]
  },
  {
   "cell_type": "code",
   "execution_count": null,
   "id": "575430bc",
   "metadata": {},
   "outputs": [],
   "source": [
    "# perform adaptive thresholding\n",
    "t = skimage.filters.threshold_otsu(blurred_image)\n",
    "print(\"Found adaptive threshold t = {}.\".format(t))"
   ]
  },
  {
   "cell_type": "code",
   "execution_count": null,
   "id": "67ff2c85",
   "metadata": {},
   "outputs": [],
   "source": [
    "# perform adaptive thresholding\n",
    "binary_mask = blurred_image > t\n",
    "\n",
    "fig, ax = plt.subplots()\n",
    "plt.imshow(binary_mask, cmap='gray')\n",
    "plt.axis('off')\n",
    "plt.tight_layout()\n",
    "#plt.savefig(\"fig/06-roots-mask.png\", dpi=150)\n",
    "plt.show()"
   ]
  },
  {
   "cell_type": "code",
   "execution_count": null,
   "id": "476ce6b4",
   "metadata": {},
   "outputs": [],
   "source": [
    "# apply the binary mask to select the foreground\n",
    "selection = np.zeros_like(image)\n",
    "selection[binary_mask] = image[binary_mask]\n",
    "\n",
    "fig, ax = plt.subplots()\n",
    "plt.imshow(selection)\n",
    "plt.axis('off')\n",
    "plt.tight_layout()\n",
    "#plt.savefig(\"fig/06-roots-selected.png\", dpi=150)\n",
    "plt.show()"
   ]
  },
  {
   "cell_type": "markdown",
   "id": "c5ffe6c7",
   "metadata": {},
   "source": [
    "## Application: measuring root mass"
   ]
  },
  {
   "cell_type": "code",
   "execution_count": null,
   "id": "ce49b5cf-691a-42fd-a151-30206f98a6e4",
   "metadata": {},
   "outputs": [],
   "source": [
    "all_files = glob.glob(\"fig/trial-???.jpg\")\n",
    "\n",
    "fig, ax = plt.subplots(2,2)\n",
    "for i,filename in enumerate(all_files):\n",
    "    image = skimage.io.imread(filename)\n",
    "    ax.flatten()[i].imshow(image)\n",
    "    ax.flatten()[i].axis('off')\n",
    "plt.show()"
   ]
  },
  {
   "cell_type": "code",
   "execution_count": null,
   "id": "40e50fcb",
   "metadata": {},
   "outputs": [],
   "source": [
    "def measure_root_mass(filename, sigma):\n",
    "\n",
    "    # read the original image, converting to grayscale on the fly\n",
    "    image = skimage.io.imread(fname=filename, as_gray=True)\n",
    "    \n",
    "    # blur before thresholding\n",
    "    blurred_image = skimage.filters.gaussian(image, sigma=sigma)\n",
    "    \n",
    "    # perform adaptive thresholding to produce a binary image\n",
    "    t = skimage.filters.threshold_otsu(blurred_image)\n",
    "    binary_mask = blurred_image > t\n",
    "    \n",
    "    # determine root mass ratio\n",
    "    rootPixels = np.count_nonzero(binary_mask)\n",
    "    w = binary_mask.shape[1]\n",
    "    h = binary_mask.shape[0]\n",
    "    density = rootPixels / (w * h)\n",
    "\n",
    "    return density"
   ]
  },
  {
   "cell_type": "code",
   "execution_count": null,
   "id": "41473127",
   "metadata": {},
   "outputs": [],
   "source": [
    "measure_root_mass(\"fig/trial-016.jpg\", sigma=1.5)"
   ]
  },
  {
   "cell_type": "code",
   "execution_count": null,
   "id": "de657545",
   "metadata": {},
   "outputs": [],
   "source": [
    "import glob\n",
    "all_files = glob.glob(\"fig/trial-???.jpg\")\n",
    "for filename in all_files:\n",
    "    density = measure_root_mass(filename, sigma=1.5)\n",
    "    # output in format suitable for .csv\n",
    "    print(filename, density, sep=\",\")"
   ]
  },
  {
   "cell_type": "markdown",
   "id": "45a91048",
   "metadata": {},
   "source": [
    "## Ignoring more of the images -- implementation"
   ]
  },
  {
   "cell_type": "code",
   "execution_count": null,
   "id": "ec2e9723-41c4-4a07-b9fa-21dace2137ed",
   "metadata": {},
   "outputs": [],
   "source": [
    "fig, ax = plt.subplots(2,2)\n",
    "for i,filename in enumerate(all_files):\n",
    "    image = skimage.io.imread(fname=filename, as_gray=True)\n",
    "    blurred_image = skimage.filters.gaussian(image, sigma=1.5)\n",
    "    t = skimage.filters.threshold_otsu(blurred_image)\n",
    "    binary_mask = blurred_image > t\n",
    "    ax.flatten()[i].imshow(binary_mask, cmap='gray')\n",
    "    ax.flatten()[i].axis('off')\n",
    "plt.show()"
   ]
  },
  {
   "cell_type": "code",
   "execution_count": null,
   "id": "2643c724",
   "metadata": {},
   "outputs": [],
   "source": [
    "def enhanced_root_mass(filename, sigma):\n",
    "\n",
    "    # read the original image, converting to grayscale on the fly\n",
    "    image = skimage.io.imread(fname=filename, as_gray=True)\n",
    "    \n",
    "    # blur before thresholding\n",
    "    blurred_image = skimage.filters.gaussian(image, sigma=sigma)\n",
    "    \n",
    "    # perform inverse binary thresholding to mask the white label and circle\n",
    "    binary_mask = blurred_image > 0.95\n",
    "    # use the mask to remove the circle and label from the blurred image\n",
    "    blurred_image[binary_mask] = 0\n",
    "    \n",
    "    # perform adaptive thresholding to produce a binary image\n",
    "    t = skimage.filters.threshold_otsu(blurred_image)\n",
    "    binary_mask = blurred_image > t\n",
    "    \n",
    "    # determine root mass ratio\n",
    "    rootPixels = np.count_nonzero(binary_mask)\n",
    "    w = binary_mask.shape[1]\n",
    "    h = binary_mask.shape[0]\n",
    "    density = rootPixels / (w * h)\n",
    "\n",
    "    return density"
   ]
  },
  {
   "cell_type": "code",
   "execution_count": null,
   "id": "95bfa967",
   "metadata": {},
   "outputs": [],
   "source": [
    "all_files = glob.glob(\"trial-???.jpg\")\n",
    "for filename in all_files:\n",
    "    density = enhanced_root_mass(filename, sigma=1.5)\n",
    "    # output in format suitable for .csv\n",
    "    print(filename, density, sep=\",\")"
   ]
  },
  {
   "cell_type": "markdown",
   "id": "0bfa7f2b",
   "metadata": {},
   "source": [
    "## Thresholding a bacteria colony image"
   ]
  },
  {
   "cell_type": "code",
   "execution_count": null,
   "id": "dc85b9cf",
   "metadata": {},
   "outputs": [],
   "source": [
    "image = skimage.io.imread(\"fig/colonies01.png\")\n",
    "gray_image = skimage.color.rgb2gray(image)\n",
    "blurred_image = skimage.filters.gaussian(gray_image, sigma=1.0)\n",
    "histogram, bin_edges = np.histogram(blurred_image, bins=256, range=(0.0, 1.0))\n",
    "\n",
    "fig, ax = plt.subplots()\n",
    "plt.plot(bin_edges[0:-1], histogram)\n",
    "plt.title(\"Graylevel histogram\")\n",
    "plt.xlabel(\"gray value\")\n",
    "plt.ylabel(\"pixel count\")\n",
    "plt.xlim(0, 1.0)\n",
    "plt.tight_layout()\n",
    "#plt.savefig(\"fig/07-colonies-histogram.png\", dpi=150)\n",
    "plt.show()"
   ]
  },
  {
   "cell_type": "code",
   "execution_count": null,
   "id": "1dcf514a",
   "metadata": {},
   "outputs": [],
   "source": [
    "t = 0.2\n",
    "binary_mask = blurred_image < t\n",
    "\n",
    "fig, ax = plt.subplots()\n",
    "plt.imshow(binary_mask, cmap='gray')\n",
    "plt.axis('off')\n",
    "plt.tight_layout()\n",
    "#plt.savefig(\"fig/06-colonies-mask.png\", dpi=150)\n",
    "plt.show()"
   ]
  }
 ],
 "metadata": {
  "kernelspec": {
   "display_name": "Python 3",
   "language": "python",
   "name": "python3"
  },
  "language_info": {
   "codemirror_mode": {
    "name": "ipython",
    "version": 3
   },
   "file_extension": ".py",
   "mimetype": "text/x-python",
   "name": "python",
   "nbconvert_exporter": "python",
   "pygments_lexer": "ipython3",
   "version": "3.6.8"
  }
 },
 "nbformat": 4,
 "nbformat_minor": 5
}
